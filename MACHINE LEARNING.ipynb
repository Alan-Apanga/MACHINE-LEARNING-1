{
 "cells": [
  {
   "cell_type": "markdown",
   "id": "fc59709e",
   "metadata": {},
   "source": [
    "# CLASSIFICATION WITH RANDOM FOREST\n",
    "\n",
    "The random forests algorithm is a machine learning method that can be used for supervised learning tasks such as classification and regression. The algorithm works by constructing a set of decision trees trained on random subsets of features. In the case of classification, the output of a random forest model is the mode of the predicted classes across the decision trees.\n",
    "\n",
    "### Problem Description\n",
    "\n",
    "* Dataset: Intake information such as breed, color , sex and age from the Austin Animal Center\n",
    "\n",
    "* Target : Predict the outcome (e.g. adoption or transfer to owner) of the animals as they leave the Animal Center.\n",
    "\n",
    "* Source : [Reference](https://www.kaggle.com/c/shelter-animal-outcomes)"
   ]
  },
  {
   "cell_type": "code",
   "execution_count": 1,
   "id": "b4541c99",
   "metadata": {},
   "outputs": [],
   "source": [
    "import pandas as pd\n",
    "import numpy as np\n",
    "\n",
    "\n",
    "from sklearn.ensemble import RandomForestClassifier\n",
    "from sklearn.model_selection import train_test_split \n",
    "#from sklearn.preprocessing import StandardScaler # used for feature scaling\n",
    "\n",
    "from sklearn import model_selection\n",
    "from sklearn.metrics import classification_report, confusion_matrix\n",
    "\n",
    "from sklearn import preprocessing\n",
    "\n",
    "#from sklearn.preprocessing import LabelEncoder, OneHotEncoder\n",
    "#from sklearn.model_selection import StratifiedKFold\n",
    "#from sklearn import svm\n",
    "\n",
    "\n",
    "import warnings\n",
    "\n",
    "warnings.filterwarnings('ignore')"
   ]
  },
  {
   "cell_type": "code",
   "execution_count": 2,
   "id": "6d18f88b",
   "metadata": {},
   "outputs": [],
   "source": [
    "df = pd.read_csv('C:/Users/Toshiba/Documents/OVGU/SS2018/Advanced Business Analytics/Analytics Challenge/Analytics Challenge-20180530/Datasets/Shelter Animal Outcomes/train.csv')\n"
   ]
  },
  {
   "cell_type": "code",
   "execution_count": 3,
   "id": "b9c2a00d",
   "metadata": {},
   "outputs": [
    {
     "name": "stdout",
     "output_type": "stream",
     "text": [
      "<class 'pandas.core.frame.DataFrame'>\n",
      "RangeIndex: 26729 entries, 0 to 26728\n",
      "Data columns (total 14 columns):\n",
      " #   Column          Non-Null Count  Dtype  \n",
      "---  ------          --------------  -----  \n",
      " 0   AnimalID        26729 non-null  object \n",
      " 1   Name            19038 non-null  object \n",
      " 2   DateTime        26729 non-null  object \n",
      " 3   OutcomeType     26729 non-null  object \n",
      " 4   OutcomeSubtype  13117 non-null  object \n",
      " 5   AnimalType      26729 non-null  object \n",
      " 6   SexuponOutcome  26728 non-null  object \n",
      " 7   AgeuponOutcome  26711 non-null  object \n",
      " 8   Breed           26729 non-null  object \n",
      " 9   Color           26729 non-null  object \n",
      " 10  Unnamed: 10     0 non-null      float64\n",
      " 11  Unnamed: 11     0 non-null      float64\n",
      " 12  Unnamed: 12     14 non-null     object \n",
      " 13  Unnamed: 13     24 non-null     object \n",
      "dtypes: float64(2), object(12)\n",
      "memory usage: 2.9+ MB\n"
     ]
    }
   ],
   "source": [
    "df.info()"
   ]
  },
  {
   "cell_type": "markdown",
   "id": "d5d40298",
   "metadata": {},
   "source": [
    "## Data Preprocessing & Feature extraction"
   ]
  },
  {
   "cell_type": "code",
   "execution_count": 4,
   "id": "5975478e",
   "metadata": {},
   "outputs": [
    {
     "data": {
      "text/html": [
       "<div>\n",
       "<style scoped>\n",
       "    .dataframe tbody tr th:only-of-type {\n",
       "        vertical-align: middle;\n",
       "    }\n",
       "\n",
       "    .dataframe tbody tr th {\n",
       "        vertical-align: top;\n",
       "    }\n",
       "\n",
       "    .dataframe thead th {\n",
       "        text-align: right;\n",
       "    }\n",
       "</style>\n",
       "<table border=\"1\" class=\"dataframe\">\n",
       "  <thead>\n",
       "    <tr style=\"text-align: right;\">\n",
       "      <th></th>\n",
       "      <th>count</th>\n",
       "      <th>unique</th>\n",
       "      <th>top</th>\n",
       "      <th>freq</th>\n",
       "    </tr>\n",
       "  </thead>\n",
       "  <tbody>\n",
       "    <tr>\n",
       "      <th>AnimalID</th>\n",
       "      <td>26729</td>\n",
       "      <td>26729</td>\n",
       "      <td>A671945</td>\n",
       "      <td>1</td>\n",
       "    </tr>\n",
       "    <tr>\n",
       "      <th>Name</th>\n",
       "      <td>19038</td>\n",
       "      <td>6374</td>\n",
       "      <td>Max</td>\n",
       "      <td>136</td>\n",
       "    </tr>\n",
       "    <tr>\n",
       "      <th>DateTime</th>\n",
       "      <td>26729</td>\n",
       "      <td>22918</td>\n",
       "      <td>11/08/2015 00:00</td>\n",
       "      <td>19</td>\n",
       "    </tr>\n",
       "    <tr>\n",
       "      <th>OutcomeType</th>\n",
       "      <td>26729</td>\n",
       "      <td>5</td>\n",
       "      <td>Adoption</td>\n",
       "      <td>10769</td>\n",
       "    </tr>\n",
       "    <tr>\n",
       "      <th>OutcomeSubtype</th>\n",
       "      <td>13117</td>\n",
       "      <td>16</td>\n",
       "      <td>Partner</td>\n",
       "      <td>7816</td>\n",
       "    </tr>\n",
       "    <tr>\n",
       "      <th>AnimalType</th>\n",
       "      <td>26729</td>\n",
       "      <td>2</td>\n",
       "      <td>Dog</td>\n",
       "      <td>15595</td>\n",
       "    </tr>\n",
       "    <tr>\n",
       "      <th>SexuponOutcome</th>\n",
       "      <td>26728</td>\n",
       "      <td>5</td>\n",
       "      <td>Neutered Male</td>\n",
       "      <td>9779</td>\n",
       "    </tr>\n",
       "    <tr>\n",
       "      <th>AgeuponOutcome</th>\n",
       "      <td>26711</td>\n",
       "      <td>44</td>\n",
       "      <td>1 year</td>\n",
       "      <td>3969</td>\n",
       "    </tr>\n",
       "    <tr>\n",
       "      <th>Breed</th>\n",
       "      <td>26729</td>\n",
       "      <td>1380</td>\n",
       "      <td>Domestic Shorthair Mix</td>\n",
       "      <td>8810</td>\n",
       "    </tr>\n",
       "    <tr>\n",
       "      <th>Color</th>\n",
       "      <td>26729</td>\n",
       "      <td>366</td>\n",
       "      <td>Black/White</td>\n",
       "      <td>2824</td>\n",
       "    </tr>\n",
       "  </tbody>\n",
       "</table>\n",
       "</div>"
      ],
      "text/plain": [
       "                count unique                     top   freq\n",
       "AnimalID        26729  26729                 A671945      1\n",
       "Name            19038   6374                     Max    136\n",
       "DateTime        26729  22918        11/08/2015 00:00     19\n",
       "OutcomeType     26729      5                Adoption  10769\n",
       "OutcomeSubtype  13117     16                 Partner   7816\n",
       "AnimalType      26729      2                     Dog  15595\n",
       "SexuponOutcome  26728      5           Neutered Male   9779\n",
       "AgeuponOutcome  26711     44                  1 year   3969\n",
       "Breed           26729   1380  Domestic Shorthair Mix   8810\n",
       "Color           26729    366             Black/White   2824"
      ]
     },
     "execution_count": 4,
     "metadata": {},
     "output_type": "execute_result"
    }
   ],
   "source": [
    "# filter unwanted columns or atttributes\n",
    "df = df.drop(['Unnamed: 10', 'Unnamed: 11', 'Unnamed: 12', 'Unnamed: 13'], axis=1)\n",
    "\n",
    "df.describe().transpose()\n"
   ]
  },
  {
   "cell_type": "markdown",
   "id": "4e39ce1f",
   "metadata": {},
   "source": [
    "####  Handling of missing values"
   ]
  },
  {
   "cell_type": "code",
   "execution_count": 5,
   "id": "3160c01d",
   "metadata": {},
   "outputs": [
    {
     "data": {
      "text/plain": [
       "AnimalID              0\n",
       "Name               7691\n",
       "DateTime              0\n",
       "OutcomeType           0\n",
       "OutcomeSubtype    13612\n",
       "AnimalType            0\n",
       "SexuponOutcome        1\n",
       "AgeuponOutcome       18\n",
       "Breed                 0\n",
       "Color                 0\n",
       "dtype: int64"
      ]
     },
     "execution_count": 5,
     "metadata": {},
     "output_type": "execute_result"
    }
   ],
   "source": [
    "#df[df.isnull().any(axis=1)] \n",
    "df.isnull().sum()"
   ]
  },
  {
   "cell_type": "markdown",
   "id": "e6724d09",
   "metadata": {},
   "source": [
    "#### Filling missing values"
   ]
  },
  {
   "cell_type": "code",
   "execution_count": 6,
   "id": "39317081",
   "metadata": {},
   "outputs": [],
   "source": [
    "df['Name'] = df.Name.replace(np.nan, 'Unkown', regex=True)\n",
    "\n",
    "# filling missing values with most common class\n",
    "df_clean = df.apply(lambda x: x.fillna(x.value_counts().index[0]))\n",
    "\n"
   ]
  },
  {
   "cell_type": "markdown",
   "id": "49ffd39c",
   "metadata": {},
   "source": [
    "#### 'Ageuponoutcome' preprocessing"
   ]
  },
  {
   "cell_type": "code",
   "execution_count": 7,
   "id": "d87372a7",
   "metadata": {},
   "outputs": [],
   "source": [
    "# new data frame with split value columns, (\\d+) stands for the integers, and ([A-Za-z]+) stands for the strings.\n",
    "result = df_clean['AgeuponOutcome'].str.split('(\\d+) ([A-Za-z]+)', n=1, expand = True)\n",
    "#result = result.loc[:, ['1', '2']]\n",
    "#result.rename(columns={1:'x', 2:'y'}, inplace=True)\n",
    "\n",
    "# replace 'AgeuponOutcome' column with first split column from new data frame\n",
    "df_clean['AgeuponOutcome'] = result[1]\n",
    "\n",
    "# making separate '_AgeuponOutcome' column from new data frame\n",
    "df_clean['_AgeuponOutcome'] = result[2]\n",
    "\n"
   ]
  },
  {
   "cell_type": "code",
   "execution_count": 8,
   "id": "b669bf54",
   "metadata": {},
   "outputs": [],
   "source": [
    "# new data frame with split value columns withou 's'\n",
    "result2 = df_clean['_AgeuponOutcome'].str.split('s', n=1, expand = True)\n",
    "\n",
    "# replace 'AgeuponOutcome' column with first split column from new data frame\n",
    "df_clean['_AgeuponOutcome'] = result2[0]\n",
    "\n",
    "\n",
    "\n"
   ]
  },
  {
   "cell_type": "code",
   "execution_count": 9,
   "id": "c2a14b3f",
   "metadata": {},
   "outputs": [
    {
     "name": "stdout",
     "output_type": "stream",
     "text": [
      "['year' 'week' 'month' 'day']\n"
     ]
    }
   ],
   "source": [
    "print(df_clean['_AgeuponOutcome'].unique())"
   ]
  },
  {
   "cell_type": "code",
   "execution_count": 10,
   "id": "eb5ae274",
   "metadata": {},
   "outputs": [],
   "source": [
    "# string to number conversion of '_AgeuponOutcome' column\n",
    "mapping = {'year': 365, 'week':7, 'month':28, 'day' :1}\n",
    "df_clean = df_clean.replace({'_AgeuponOutcome':mapping})\n",
    "\n",
    "\n"
   ]
  },
  {
   "cell_type": "markdown",
   "id": "48fac3bc",
   "metadata": {},
   "source": [
    "#### Covert Data types"
   ]
  },
  {
   "cell_type": "code",
   "execution_count": 11,
   "id": "ba4dddb8",
   "metadata": {},
   "outputs": [],
   "source": [
    "cols_to_convert = ['AgeuponOutcome','_AgeuponOutcome']\n",
    "\n",
    "for col in cols_to_convert:\n",
    "    df_clean[col] = pd.to_numeric(df_clean[col], errors='coerce')\n",
    "    \n",
    "\n"
   ]
  },
  {
   "cell_type": "code",
   "execution_count": 12,
   "id": "5aea4f2a",
   "metadata": {},
   "outputs": [],
   "source": [
    "# compute age in days\n",
    "values = df_clean.AgeuponOutcome*df_clean._AgeuponOutcome\n",
    "\n",
    "# replace the original values in the column 'AgeuponOutcome'\n",
    "df_clean['AgeuponOutcome'] = values\n"
   ]
  },
  {
   "cell_type": "code",
   "execution_count": 13,
   "id": "3fdf9d69",
   "metadata": {},
   "outputs": [
    {
     "data": {
      "text/plain": [
       "(26729, 10)"
      ]
     },
     "execution_count": 13,
     "metadata": {},
     "output_type": "execute_result"
    }
   ],
   "source": [
    "df_clean = df_clean.drop(['_AgeuponOutcome'], axis=1)\n",
    "df_clean.shape"
   ]
  },
  {
   "cell_type": "code",
   "execution_count": 14,
   "id": "230af793",
   "metadata": {},
   "outputs": [],
   "source": [
    "age = [0, 365, 7300]\n",
    "labels = ['Infant', 'Adult']\n",
    "df_clean['AgeuponOutcome'] = pd.cut(df_clean['AgeuponOutcome'], bins=age, labels=labels, include_lowest=True)\n"
   ]
  },
  {
   "cell_type": "markdown",
   "id": "e94638c1",
   "metadata": {},
   "source": [
    "#### 'Date Time' Preprocessing"
   ]
  },
  {
   "cell_type": "code",
   "execution_count": 15,
   "id": "2bf94592",
   "metadata": {},
   "outputs": [],
   "source": [
    "# new data frame with split value columns\n",
    "result3 = df_clean['DateTime'].str.split(' ', n=1,  expand=True)\n",
    "#result3.rename(columns={0:'Date', 1:'Time'}, inplace=True)\n",
    "\n",
    "# Create new column 'Date' with first split column from new data frame\n",
    "df_clean['Date'] = result3[0]\n",
    "\n",
    "# Create new column 'Time' with  second column from new data frame\n",
    "df_clean['Time'] = result3[1]\n",
    "\n"
   ]
  },
  {
   "cell_type": "code",
   "execution_count": 16,
   "id": "283619a5",
   "metadata": {},
   "outputs": [],
   "source": [
    "df_clean = df_clean.drop(['Date'], axis=1)\n",
    "\n"
   ]
  },
  {
   "cell_type": "markdown",
   "id": "68019167",
   "metadata": {},
   "source": [
    "#### Create seasons from 'DateTime'"
   ]
  },
  {
   "cell_type": "code",
   "execution_count": 17,
   "id": "e6d1cf65",
   "metadata": {},
   "outputs": [],
   "source": [
    "df_clean['DateTime'] = pd.to_datetime(df_clean.DateTime)\n",
    "\n",
    "conditions = [\n",
    "    df_clean.DateTime.dt.month.isin(np.arange(5,10)),\n",
    "    (df_clean.DateTime.dt.month.isin(np.arange(1,5))) | (df_clean.DateTime.dt.month.isin(np.arange(10,13))),\n",
    "]\n",
    "\n",
    "options = ['Winter months', 'Summer months']\n",
    "df_clean['Seasons'] = np.select(conditions, options)\n",
    "\n"
   ]
  },
  {
   "cell_type": "markdown",
   "id": "a2d777a8",
   "metadata": {},
   "source": [
    "#### Create day from the week from 'DateTime'"
   ]
  },
  {
   "cell_type": "code",
   "execution_count": 18,
   "id": "e49f3888",
   "metadata": {},
   "outputs": [],
   "source": [
    "\n",
    "df_clean['Day'] = df_clean['DateTime'].dt.day_name()\n",
    "\n",
    "\n"
   ]
  },
  {
   "cell_type": "markdown",
   "id": "a537480c",
   "metadata": {},
   "source": [
    "#### 'Hour' preprocessing"
   ]
  },
  {
   "cell_type": "code",
   "execution_count": 19,
   "id": "f834434b",
   "metadata": {},
   "outputs": [],
   "source": [
    "# new data frame with split value columns\n",
    "result4 = df_clean['Time'].str.split(':', n=1,  expand=True)\n",
    "\n",
    "# Create new column 'Time' with first split column from new data frame\n",
    "df_clean['Hour'] = result4[0]\n",
    "\n",
    "# Create new column 'Minutes' with  second column from new data frame\n",
    "df_clean['Minutes'] = result4[1]\n",
    "\n"
   ]
  },
  {
   "cell_type": "code",
   "execution_count": 20,
   "id": "d177f262",
   "metadata": {},
   "outputs": [
    {
     "data": {
      "text/plain": [
       "AnimalID                  object\n",
       "Name                      object\n",
       "DateTime          datetime64[ns]\n",
       "OutcomeType               object\n",
       "OutcomeSubtype            object\n",
       "AnimalType                object\n",
       "SexuponOutcome            object\n",
       "AgeuponOutcome          category\n",
       "Breed                     object\n",
       "Color                     object\n",
       "Time                      object\n",
       "Seasons                   object\n",
       "Day                       object\n",
       "Hour                       int64\n",
       "Minutes                   object\n",
       "dtype: object"
      ]
     },
     "execution_count": 20,
     "metadata": {},
     "output_type": "execute_result"
    }
   ],
   "source": [
    "df_clean['Hour'] = pd.to_numeric(df_clean['Hour'], errors='coerce')\n",
    "df_clean.dtypes"
   ]
  },
  {
   "cell_type": "code",
   "execution_count": 21,
   "id": "6eb94748",
   "metadata": {},
   "outputs": [],
   "source": [
    "b = [0, 4, 8, 12, 16, 20, 24]\n",
    "shifts = ['Late Night', 'Early Morning','Morning','Noon','Evening','Night']\n",
    "df_clean['Time of the day'] = pd.cut(df_clean['Hour'], bins=b, labels=shifts, include_lowest=True)\n"
   ]
  },
  {
   "cell_type": "code",
   "execution_count": 22,
   "id": "90e472b5",
   "metadata": {},
   "outputs": [],
   "source": [
    "df_clean = df_clean.drop(['DateTime','Time', 'Hour', 'Minutes' ], axis=1)\n"
   ]
  },
  {
   "cell_type": "markdown",
   "id": "22037010",
   "metadata": {},
   "source": [
    "#### 'Breed' Preprocessing"
   ]
  },
  {
   "cell_type": "code",
   "execution_count": 23,
   "id": "cd7cc715",
   "metadata": {},
   "outputs": [],
   "source": [
    "\n",
    "df_clean['Breed (Mix/Not Mix)'] = df_clean['Breed'].str.extract('(Mix|/)')[0]\n",
    "\n",
    "\n",
    "df_clean = df_clean.replace({'Breed (Mix/Not Mix)': '/'},\n",
    "                            {'Breed (Mix/Not Mix)': 'Mix'}, regex=True)"
   ]
  },
  {
   "cell_type": "markdown",
   "id": "90f196db",
   "metadata": {},
   "source": [
    "check for missing values again."
   ]
  },
  {
   "cell_type": "code",
   "execution_count": 24,
   "id": "d4e14833",
   "metadata": {},
   "outputs": [
    {
     "data": {
      "text/plain": [
       "AnimalID                  0\n",
       "Name                      0\n",
       "OutcomeType               0\n",
       "OutcomeSubtype            0\n",
       "AnimalType                0\n",
       "SexuponOutcome            0\n",
       "AgeuponOutcome            0\n",
       "Breed                     0\n",
       "Color                     0\n",
       "Seasons                   0\n",
       "Day                       0\n",
       "Time of the day           0\n",
       "Breed (Mix/Not Mix)    1391\n",
       "dtype: int64"
      ]
     },
     "execution_count": 24,
     "metadata": {},
     "output_type": "execute_result"
    }
   ],
   "source": [
    "#df_clean[df_clean.isnull().any(axis=1)] \n",
    "df_clean.isnull().sum()"
   ]
  },
  {
   "cell_type": "code",
   "execution_count": 25,
   "id": "849fc62e",
   "metadata": {},
   "outputs": [],
   "source": [
    "df_clean = df_clean.replace(np.nan, 'Not Mix', regex=True)"
   ]
  },
  {
   "cell_type": "code",
   "execution_count": 26,
   "id": "e430cab6",
   "metadata": {},
   "outputs": [
    {
     "data": {
      "text/plain": [
       "Index(['AnimalID', 'Name', 'OutcomeType', 'OutcomeSubtype', 'AnimalType',\n",
       "       'SexuponOutcome', 'AgeuponOutcome', 'Color', 'Seasons', 'Day',\n",
       "       'Time of the day', 'Breed (Mix/Not Mix)'],\n",
       "      dtype='object')"
      ]
     },
     "execution_count": 26,
     "metadata": {},
     "output_type": "execute_result"
    }
   ],
   "source": [
    "# drop\n",
    "df_clean = df_clean.drop(['Breed'], axis=1)\n",
    "\n",
    "df_clean.columns"
   ]
  },
  {
   "cell_type": "markdown",
   "id": "7d8b37e1",
   "metadata": {},
   "source": [
    "#### 'Name' Preprocessing"
   ]
  },
  {
   "cell_type": "code",
   "execution_count": 27,
   "id": "181d292d",
   "metadata": {},
   "outputs": [],
   "source": [
    "df_clean['Name_dirt'] = df_clean['Name'].str.extract('(\\d+)')[0]\n",
    "\n",
    "df_clean = df_clean.drop(['Name_dirt'],axis=1)"
   ]
  },
  {
   "cell_type": "markdown",
   "id": "06a81520",
   "metadata": {},
   "source": [
    "#### Sex/Gender categories Preprocessing"
   ]
  },
  {
   "cell_type": "code",
   "execution_count": 28,
   "id": "52a84cc6",
   "metadata": {},
   "outputs": [
    {
     "data": {
      "text/plain": [
       "array(['Neutered Male', 'Spayed Female', 'Intact Male', 'Intact Female',\n",
       "       'Unknown'], dtype=object)"
      ]
     },
     "execution_count": 28,
     "metadata": {},
     "output_type": "execute_result"
    }
   ],
   "source": [
    "df_clean['SexuponOutcome'].unique()"
   ]
  },
  {
   "cell_type": "code",
   "execution_count": 29,
   "id": "e371c80e",
   "metadata": {},
   "outputs": [],
   "source": [
    "df_clean['Gender'] = df_clean['SexuponOutcome'].str.extract('(Male|Female|Unkown)')[0]\n",
    "\n",
    "df_clean['Health'] = df_clean['SexuponOutcome'].str.extract('(Neutered|Spayed|Intact|Unknown)')[0]"
   ]
  },
  {
   "cell_type": "code",
   "execution_count": 30,
   "id": "d3e2087b",
   "metadata": {},
   "outputs": [
    {
     "data": {
      "text/plain": [
       "Index(['AnimalID', 'Name', 'OutcomeType', 'OutcomeSubtype', 'AnimalType',\n",
       "       'AgeuponOutcome', 'Color', 'Seasons', 'Day', 'Time of the day',\n",
       "       'Breed (Mix/Not Mix)', 'Gender', 'Health'],\n",
       "      dtype='object')"
      ]
     },
     "execution_count": 30,
     "metadata": {},
     "output_type": "execute_result"
    }
   ],
   "source": [
    "df_clean = df_clean.drop(['SexuponOutcome'], axis=1)\n",
    "\n",
    "df_clean.columns"
   ]
  },
  {
   "cell_type": "markdown",
   "id": "15c8226d",
   "metadata": {},
   "source": [
    "#### Color Preprocessing"
   ]
  },
  {
   "cell_type": "code",
   "execution_count": 31,
   "id": "ff1a37da",
   "metadata": {},
   "outputs": [],
   "source": [
    "# we use find delimiter  '/' to define mix color\n",
    "df_clean['Color(Mix/Not Mix)'] = df_clean['Color'].str.extract('(/)')[0]\n",
    "\n",
    "df_clean = df_clean.replace({'Color(Mix/Not Mix)': '/'},\n",
    "                            {'Color(Mix/Not Mix)': 'Mix'}, regex=True)"
   ]
  },
  {
   "cell_type": "code",
   "execution_count": 32,
   "id": "389453a1",
   "metadata": {},
   "outputs": [],
   "source": [
    "# replace missing value with 'Not mix'\n",
    "df_clean = df_clean.replace(np.nan, 'Not Mix', regex=True)\n",
    "\n"
   ]
  },
  {
   "cell_type": "code",
   "execution_count": 33,
   "id": "bf52af89",
   "metadata": {},
   "outputs": [
    {
     "data": {
      "text/plain": [
       "(26729, 13)"
      ]
     },
     "execution_count": 33,
     "metadata": {},
     "output_type": "execute_result"
    }
   ],
   "source": [
    "# drop unused columns\n",
    "\n",
    "df_clean = df_clean.drop(['Color'], axis=1)\n",
    "df_clean.shape"
   ]
  },
  {
   "cell_type": "code",
   "execution_count": 34,
   "id": "4584efb7",
   "metadata": {},
   "outputs": [],
   "source": [
    "# Split Animal Id from the rest of the columns\n",
    "df_ID = df_clean[['AnimalID', 'Name']].copy()"
   ]
  },
  {
   "cell_type": "code",
   "execution_count": 35,
   "id": "cd9a5c02",
   "metadata": {},
   "outputs": [],
   "source": [
    "df_clean = df_clean.drop(['AnimalID', 'Name'], axis=1)"
   ]
  },
  {
   "cell_type": "code",
   "execution_count": 36,
   "id": "ef70a406",
   "metadata": {},
   "outputs": [
    {
     "data": {
      "text/plain": [
       "Index(['OutcomeType', 'OutcomeSubtype', 'AnimalType', 'AgeuponOutcome',\n",
       "       'Seasons', 'Day', 'Time of the day', 'Breed (Mix/Not Mix)', 'Gender',\n",
       "       'Health', 'Color(Mix/Not Mix)'],\n",
       "      dtype='object')"
      ]
     },
     "execution_count": 36,
     "metadata": {},
     "output_type": "execute_result"
    }
   ],
   "source": [
    "df_clean.columns"
   ]
  },
  {
   "cell_type": "code",
   "execution_count": 37,
   "id": "c2e7636a",
   "metadata": {},
   "outputs": [
    {
     "data": {
      "text/plain": [
       "(26729, 11)"
      ]
     },
     "execution_count": 37,
     "metadata": {},
     "output_type": "execute_result"
    }
   ],
   "source": [
    "df_clean.shape"
   ]
  },
  {
   "cell_type": "markdown",
   "id": "c4efc515",
   "metadata": {},
   "source": [
    "### Label Encoding\n",
    "Conversion of each column from string categorical to numerical categorical"
   ]
  },
  {
   "cell_type": "code",
   "execution_count": 38,
   "id": "6c1f1bfa",
   "metadata": {},
   "outputs": [
    {
     "data": {
      "text/html": [
       "<div>\n",
       "<style scoped>\n",
       "    .dataframe tbody tr th:only-of-type {\n",
       "        vertical-align: middle;\n",
       "    }\n",
       "\n",
       "    .dataframe tbody tr th {\n",
       "        vertical-align: top;\n",
       "    }\n",
       "\n",
       "    .dataframe thead th {\n",
       "        text-align: right;\n",
       "    }\n",
       "</style>\n",
       "<table border=\"1\" class=\"dataframe\">\n",
       "  <thead>\n",
       "    <tr style=\"text-align: right;\">\n",
       "      <th></th>\n",
       "      <th>count</th>\n",
       "      <th>unique</th>\n",
       "      <th>top</th>\n",
       "      <th>freq</th>\n",
       "    </tr>\n",
       "  </thead>\n",
       "  <tbody>\n",
       "    <tr>\n",
       "      <th>OutcomeType</th>\n",
       "      <td>26729</td>\n",
       "      <td>5</td>\n",
       "      <td>Adoption</td>\n",
       "      <td>10769</td>\n",
       "    </tr>\n",
       "    <tr>\n",
       "      <th>OutcomeSubtype</th>\n",
       "      <td>26729</td>\n",
       "      <td>16</td>\n",
       "      <td>Partner</td>\n",
       "      <td>21428</td>\n",
       "    </tr>\n",
       "    <tr>\n",
       "      <th>AnimalType</th>\n",
       "      <td>26729</td>\n",
       "      <td>2</td>\n",
       "      <td>Dog</td>\n",
       "      <td>15595</td>\n",
       "    </tr>\n",
       "    <tr>\n",
       "      <th>AgeuponOutcome</th>\n",
       "      <td>26729</td>\n",
       "      <td>2</td>\n",
       "      <td>Infant</td>\n",
       "      <td>15877</td>\n",
       "    </tr>\n",
       "    <tr>\n",
       "      <th>Seasons</th>\n",
       "      <td>26729</td>\n",
       "      <td>2</td>\n",
       "      <td>Summer months</td>\n",
       "      <td>15533</td>\n",
       "    </tr>\n",
       "    <tr>\n",
       "      <th>Day</th>\n",
       "      <td>26729</td>\n",
       "      <td>7</td>\n",
       "      <td>Saturday</td>\n",
       "      <td>4183</td>\n",
       "    </tr>\n",
       "    <tr>\n",
       "      <th>Time of the day</th>\n",
       "      <td>26729</td>\n",
       "      <td>6</td>\n",
       "      <td>Noon</td>\n",
       "      <td>10640</td>\n",
       "    </tr>\n",
       "    <tr>\n",
       "      <th>Breed (Mix/Not Mix)</th>\n",
       "      <td>26729</td>\n",
       "      <td>2</td>\n",
       "      <td>Mix</td>\n",
       "      <td>25338</td>\n",
       "    </tr>\n",
       "    <tr>\n",
       "      <th>Gender</th>\n",
       "      <td>26729</td>\n",
       "      <td>3</td>\n",
       "      <td>Male</td>\n",
       "      <td>13305</td>\n",
       "    </tr>\n",
       "    <tr>\n",
       "      <th>Health</th>\n",
       "      <td>26729</td>\n",
       "      <td>4</td>\n",
       "      <td>Neutered</td>\n",
       "      <td>9780</td>\n",
       "    </tr>\n",
       "    <tr>\n",
       "      <th>Color(Mix/Not Mix)</th>\n",
       "      <td>26729</td>\n",
       "      <td>2</td>\n",
       "      <td>Mix</td>\n",
       "      <td>13924</td>\n",
       "    </tr>\n",
       "  </tbody>\n",
       "</table>\n",
       "</div>"
      ],
      "text/plain": [
       "                     count unique            top   freq\n",
       "OutcomeType          26729      5       Adoption  10769\n",
       "OutcomeSubtype       26729     16        Partner  21428\n",
       "AnimalType           26729      2            Dog  15595\n",
       "AgeuponOutcome       26729      2         Infant  15877\n",
       "Seasons              26729      2  Summer months  15533\n",
       "Day                  26729      7       Saturday   4183\n",
       "Time of the day      26729      6           Noon  10640\n",
       "Breed (Mix/Not Mix)  26729      2            Mix  25338\n",
       "Gender               26729      3           Male  13305\n",
       "Health               26729      4       Neutered   9780\n",
       "Color(Mix/Not Mix)   26729      2            Mix  13924"
      ]
     },
     "execution_count": 38,
     "metadata": {},
     "output_type": "execute_result"
    }
   ],
   "source": [
    "df_clean.describe().transpose()"
   ]
  },
  {
   "cell_type": "code",
   "execution_count": 39,
   "id": "a19e2309",
   "metadata": {},
   "outputs": [
    {
     "data": {
      "text/html": [
       "<div>\n",
       "<style scoped>\n",
       "    .dataframe tbody tr th:only-of-type {\n",
       "        vertical-align: middle;\n",
       "    }\n",
       "\n",
       "    .dataframe tbody tr th {\n",
       "        vertical-align: top;\n",
       "    }\n",
       "\n",
       "    .dataframe thead th {\n",
       "        text-align: right;\n",
       "    }\n",
       "</style>\n",
       "<table border=\"1\" class=\"dataframe\">\n",
       "  <thead>\n",
       "    <tr style=\"text-align: right;\">\n",
       "      <th></th>\n",
       "      <th>OutcomeType</th>\n",
       "      <th>OutcomeSubtype</th>\n",
       "      <th>AnimalType</th>\n",
       "      <th>AgeuponOutcome</th>\n",
       "      <th>Seasons</th>\n",
       "      <th>Day</th>\n",
       "      <th>Time of the day</th>\n",
       "      <th>Breed (Mix/Not Mix)</th>\n",
       "      <th>Gender</th>\n",
       "      <th>Health</th>\n",
       "      <th>Color(Mix/Not Mix)</th>\n",
       "    </tr>\n",
       "  </thead>\n",
       "  <tbody>\n",
       "    <tr>\n",
       "      <th>0</th>\n",
       "      <td>3</td>\n",
       "      <td>12</td>\n",
       "      <td>1</td>\n",
       "      <td>0</td>\n",
       "      <td>0</td>\n",
       "      <td>5</td>\n",
       "      <td>4</td>\n",
       "      <td>0</td>\n",
       "      <td>1</td>\n",
       "      <td>1</td>\n",
       "      <td>0</td>\n",
       "    </tr>\n",
       "    <tr>\n",
       "      <th>1</th>\n",
       "      <td>2</td>\n",
       "      <td>15</td>\n",
       "      <td>0</td>\n",
       "      <td>0</td>\n",
       "      <td>0</td>\n",
       "      <td>3</td>\n",
       "      <td>2</td>\n",
       "      <td>0</td>\n",
       "      <td>0</td>\n",
       "      <td>2</td>\n",
       "      <td>1</td>\n",
       "    </tr>\n",
       "    <tr>\n",
       "      <th>2</th>\n",
       "      <td>0</td>\n",
       "      <td>6</td>\n",
       "      <td>1</td>\n",
       "      <td>1</td>\n",
       "      <td>0</td>\n",
       "      <td>2</td>\n",
       "      <td>2</td>\n",
       "      <td>0</td>\n",
       "      <td>1</td>\n",
       "      <td>1</td>\n",
       "      <td>0</td>\n",
       "    </tr>\n",
       "    <tr>\n",
       "      <th>3</th>\n",
       "      <td>4</td>\n",
       "      <td>12</td>\n",
       "      <td>0</td>\n",
       "      <td>0</td>\n",
       "      <td>0</td>\n",
       "      <td>0</td>\n",
       "      <td>4</td>\n",
       "      <td>0</td>\n",
       "      <td>1</td>\n",
       "      <td>0</td>\n",
       "      <td>1</td>\n",
       "    </tr>\n",
       "    <tr>\n",
       "      <th>4</th>\n",
       "      <td>4</td>\n",
       "      <td>12</td>\n",
       "      <td>1</td>\n",
       "      <td>1</td>\n",
       "      <td>0</td>\n",
       "      <td>0</td>\n",
       "      <td>2</td>\n",
       "      <td>0</td>\n",
       "      <td>1</td>\n",
       "      <td>1</td>\n",
       "      <td>1</td>\n",
       "    </tr>\n",
       "  </tbody>\n",
       "</table>\n",
       "</div>"
      ],
      "text/plain": [
       "   OutcomeType  OutcomeSubtype  AnimalType  AgeuponOutcome  Seasons  Day  \\\n",
       "0            3              12           1               0        0    5   \n",
       "1            2              15           0               0        0    3   \n",
       "2            0               6           1               1        0    2   \n",
       "3            4              12           0               0        0    0   \n",
       "4            4              12           1               1        0    0   \n",
       "\n",
       "   Time of the day  Breed (Mix/Not Mix)  Gender  Health  Color(Mix/Not Mix)  \n",
       "0                4                    0       1       1                   0  \n",
       "1                2                    0       0       2                   1  \n",
       "2                2                    0       1       1                   0  \n",
       "3                4                    0       1       0                   1  \n",
       "4                2                    0       1       1                   1  "
      ]
     },
     "execution_count": 39,
     "metadata": {},
     "output_type": "execute_result"
    }
   ],
   "source": [
    "# store original labe data before encoding in a new data-frame 'non_num_cols'\n",
    "non_num_cols = df_clean[df_clean.columns[0]]\n",
    "y_labels = pd.DataFrame(non_num_cols)\n",
    "y_labels = y_labels.rename(columns={\"OutcomeType\":\"OutcomeType_labels\"})\n",
    "\n",
    "# Conversion of each column from string categorical to numerical categorical\n",
    "for col in list (df_clean.columns):\n",
    "    df_clean[col] = df_clean[col].astype('category').copy()#  convert your column to categorical data type\n",
    "    df_clean[col] = df_clean[col].cat.codes# Get codes for each value\n",
    "    \n",
    "df_clean.head()\n"
   ]
  },
  {
   "cell_type": "code",
   "execution_count": 40,
   "id": "3f95a544",
   "metadata": {},
   "outputs": [],
   "source": [
    "# store label data after encoding in a new data-frame 'num_col'\n",
    "num_col = df_clean[df_clean.columns[0]]\n",
    "y_codes = pd.DataFrame(num_col)\n",
    "y_codes = y_codes.rename(columns={\"OutcomeType\":\"OutcomeType_codes\"})\n"
   ]
  },
  {
   "cell_type": "code",
   "execution_count": 41,
   "id": "62f66916",
   "metadata": {},
   "outputs": [
    {
     "name": "stdout",
     "output_type": "stream",
     "text": [
      "(26729, 1)\n",
      "(26729, 1)\n"
     ]
    }
   ],
   "source": [
    "# confirmation that transformation went smoothly\n",
    "print(y_labels.shape)\n",
    "print(y_codes.shape)"
   ]
  },
  {
   "cell_type": "markdown",
   "id": "d27d5f09",
   "metadata": {},
   "source": [
    "#### Label Mapping\n",
    "\n",
    "Decipher the meaning of the tranformed categorical codes."
   ]
  },
  {
   "cell_type": "code",
   "execution_count": 42,
   "id": "c671d825",
   "metadata": {},
   "outputs": [
    {
     "data": {
      "text/html": [
       "<div>\n",
       "<style scoped>\n",
       "    .dataframe tbody tr th:only-of-type {\n",
       "        vertical-align: middle;\n",
       "    }\n",
       "\n",
       "    .dataframe tbody tr th {\n",
       "        vertical-align: top;\n",
       "    }\n",
       "\n",
       "    .dataframe thead th {\n",
       "        text-align: right;\n",
       "    }\n",
       "</style>\n",
       "<table border=\"1\" class=\"dataframe\">\n",
       "  <thead>\n",
       "    <tr style=\"text-align: right;\">\n",
       "      <th></th>\n",
       "      <th>OutcomeType_labels</th>\n",
       "      <th>OutcomeType_codes</th>\n",
       "    </tr>\n",
       "  </thead>\n",
       "  <tbody>\n",
       "    <tr>\n",
       "      <th>0</th>\n",
       "      <td>Return_to_owner</td>\n",
       "      <td>3</td>\n",
       "    </tr>\n",
       "    <tr>\n",
       "      <th>1</th>\n",
       "      <td>Euthanasia</td>\n",
       "      <td>2</td>\n",
       "    </tr>\n",
       "    <tr>\n",
       "      <th>2</th>\n",
       "      <td>Adoption</td>\n",
       "      <td>0</td>\n",
       "    </tr>\n",
       "    <tr>\n",
       "      <th>3</th>\n",
       "      <td>Transfer</td>\n",
       "      <td>4</td>\n",
       "    </tr>\n",
       "    <tr>\n",
       "      <th>4</th>\n",
       "      <td>Died</td>\n",
       "      <td>1</td>\n",
       "    </tr>\n",
       "  </tbody>\n",
       "</table>\n",
       "</div>"
      ],
      "text/plain": [
       "  OutcomeType_labels  OutcomeType_codes\n",
       "0    Return_to_owner                  3\n",
       "1         Euthanasia                  2\n",
       "2           Adoption                  0\n",
       "3           Transfer                  4\n",
       "4               Died                  1"
      ]
     },
     "execution_count": 42,
     "metadata": {},
     "output_type": "execute_result"
    }
   ],
   "source": [
    "# inner join on indices used to merge the data frame of original y labels with the y encoded to create a new 'labels' data-frame\n",
    "labels = pd.merge(y_labels, y_codes, left_index=True, right_index=True )\n",
    "\n",
    "labels = labels.drop_duplicates(subset=['OutcomeType_labels'],ignore_index=True)\n",
    "\n",
    "labels"
   ]
  },
  {
   "cell_type": "markdown",
   "id": "9f956676",
   "metadata": {},
   "source": [
    "Splitting the attributes into independent and dependent attributes"
   ]
  },
  {
   "cell_type": "code",
   "execution_count": 43,
   "id": "4d10a404",
   "metadata": {},
   "outputs": [],
   "source": [
    "# Remove the labels from the features (X)\n",
    "X = df_clean.drop('OutcomeType', axis=1)\n",
    "\n",
    "# labels we want to predict (Y/Outcome)\n",
    "Y = df_clean['OutcomeType']\n",
    "\n",
    "# Saving feature names for later use\n",
    "X_actual = list(df_clean.columns)"
   ]
  },
  {
   "cell_type": "markdown",
   "id": "e3a335c6",
   "metadata": {},
   "source": [
    "#### Splitting the dataset into **trainning** and **testing datasets**\n",
    "\n",
    "Any machine learning algorithm needs to be tested for accuracy. In order to do that, we divide our data set into two parts:training set and testing set.\n",
    "\n",
    "Training set to be 80% of the original data set and testing set to be 20% of the original data set.\n",
    "Generally, when training a model, we randomly split the data into training and testing sets to get a representation of all data points (if we trained on the first nine months of the year and then used the final three months for prediction, our algorithm would not perform well because it has not seen any data from those last three months.) I am setting the random state to 42 which means the results will be the same each time I run the split for reproducible results."
   ]
  },
  {
   "cell_type": "code",
   "execution_count": 44,
   "id": "d7d5f087",
   "metadata": {},
   "outputs": [],
   "source": [
    "random_state = np.random.RandomState(0)\n",
    "# splitting the dataset into training set and test set\n",
    "X_train, X_test, Y_train, Y_test = train_test_split(X, Y, test_size=0.25, random_state=random_state) \n"
   ]
  },
  {
   "cell_type": "markdown",
   "id": "476cc9d0",
   "metadata": {},
   "source": [
    "We can look at the shape of all the data to make sure we did everything correctly. We expect the training features number of columns to match the testing feature number of columns and the number of rows to match for the respective training and testing features and the labels :"
   ]
  },
  {
   "cell_type": "code",
   "execution_count": 45,
   "id": "8830acfc",
   "metadata": {},
   "outputs": [
    {
     "name": "stdout",
     "output_type": "stream",
     "text": [
      "Training Features Shape: (20046, 10)\n",
      "Training Labels Shape: (20046,)\n",
      "Testing Features Shape: (6683, 10)\n",
      "Testing Labels Shape: (6683,)\n"
     ]
    }
   ],
   "source": [
    "print('Training Features Shape:', X_train.shape)\n",
    "print('Training Labels Shape:', Y_train.shape)\n",
    "print('Testing Features Shape:', X_test.shape)\n",
    "print('Testing Labels Shape:', Y_test.shape)\n"
   ]
  },
  {
   "cell_type": "markdown",
   "id": "6e922fdf",
   "metadata": {},
   "source": [
    "####  Training using random forest model\n",
    "\n"
   ]
  },
  {
   "cell_type": "code",
   "execution_count": 46,
   "id": "8f1be133",
   "metadata": {},
   "outputs": [],
   "source": [
    "# random forest model object creation.\n",
    "model = RandomForestClassifier(random_state=random_state)\n",
    "\n",
    "# Train the model on training data\n",
    "model.fit(X_train, Y_train)\n",
    "\n",
    "# predictions\n",
    "y_predicted = model.predict(X_test)"
   ]
  },
  {
   "cell_type": "markdown",
   "id": "957f1a81",
   "metadata": {},
   "source": [
    "#### Evaluating Model Performance\n",
    "\n"
   ]
  },
  {
   "cell_type": "code",
   "execution_count": 47,
   "id": "4c102847",
   "metadata": {},
   "outputs": [
    {
     "name": "stdout",
     "output_type": "stream",
     "text": [
      "---- Confusion Matrix ----\n",
      "[[2149    2    1  315  243]\n",
      " [   5   28    1    1    4]\n",
      " [  12    1  372    2    6]\n",
      " [ 470    0    0  474  248]\n",
      " [ 416    0    0  276 1657]]\n",
      "\n",
      "\n",
      "--- Classification Report ----\n",
      "              precision    recall  f1-score   support\n",
      "\n",
      "           0       0.70      0.79      0.75      2710\n",
      "           1       0.90      0.72      0.80        39\n",
      "           2       0.99      0.95      0.97       393\n",
      "           3       0.44      0.40      0.42      1192\n",
      "           4       0.77      0.71      0.74      2349\n",
      "\n",
      "    accuracy                           0.70      6683\n",
      "   macro avg       0.76      0.71      0.73      6683\n",
      "weighted avg       0.70      0.70      0.70      6683\n",
      "\n",
      "\n",
      "\n"
     ]
    }
   ],
   "source": [
    "print(\"---- Confusion Matrix ----\")\n",
    "print(confusion_matrix(Y_test, y_predicted))\n",
    "print('\\n')\n",
    "\n",
    "print(\"--- Classification Report ----\")\n",
    "print(classification_report(Y_test, y_predicted))\n",
    "print('\\n')"
   ]
  },
  {
   "cell_type": "markdown",
   "id": "dcfd8382",
   "metadata": {},
   "source": [
    "### Confusion Matrix\n",
    "\n",
    "A much better way to evaluate the performance of a classifier is to look at the confusion matrix. The general idea is to count the number of times instances of class A are classified as class B. For example, to know the number of times the classifier confused outcome of Death with Adoption, you would look in the 5th row and 3rd column of the confusion matrix.\n",
    "Each row in a confusion matrix represents an actual class.\n",
    "\n",
    "Each row in a confusion matrix represents an actual class, while each column represents a predicted class.\n",
    "([Reference](https://stackoverflow.com/questions/25692293/inserting-a-link-to-a-webpage-in-an-ipython-notebook))\n",
    "\n",
    "The confusion matrix is useful for giving you false positives and false negatives. The **classification report** tells you the accuracy(0.70) of your model."
   ]
  },
  {
   "cell_type": "markdown",
   "id": "9f10693d",
   "metadata": {},
   "source": [
    "#### K-fold Cross validation\n",
    "\n",
    "Results validated by cross-validation and the model still performed slightly better(0.70 accuracy) than the cross validation results of 0.67 accuracy. "
   ]
  },
  {
   "cell_type": "code",
   "execution_count": 48,
   "id": "2fc92063",
   "metadata": {},
   "outputs": [],
   "source": [
    "import matplotlib.patches as patches\n",
    "import matplotlib.pyplot as plt\n",
    "from scipy import interp\n",
    "from sklearn.metrics import roc_curve,auc\n",
    "from sklearn.model_selection import KFold\n",
    "from sklearn.model_selection import cross_val_score"
   ]
  },
  {
   "cell_type": "markdown",
   "id": "f6b014e2",
   "metadata": {},
   "source": [
    "* In this curve x axis is false positive rate and y axis is true positive rate\n",
    "* If the curve in plot is closer to left-top corner, test is more accurate.\n",
    "* Roc curve score is auc that is computation area under the curve from prediction scores\n",
    "* We want auc to closer 1"
   ]
  },
  {
   "cell_type": "code",
   "execution_count": 49,
   "id": "ed1d238b",
   "metadata": {},
   "outputs": [
    {
     "name": "stdout",
     "output_type": "stream",
     "text": [
      "K-fold Cross Validation f1_weighted Results:  [0.69119315 0.66032447 0.67454461 0.69686801 0.66549904]\n",
      "K-fold Cross Validation f1_weighted Results Mean:  0.6776858548522116\n"
     ]
    }
   ],
   "source": [
    "# K-fold f1_weighted\n",
    "\n",
    "kf = KFold(shuffle=True, n_splits=5) # To make a 5-fold CV\n",
    "\n",
    "cv_results_kfold = cross_val_score(model, X_test, Y_test, cv=kf, scoring= 'f1_weighted')\n",
    "\n",
    "print(\"K-fold Cross Validation f1_weighted Results: \",cv_results_kfold)\n",
    "print(\"K-fold Cross Validation f1_weighted Results Mean: \",cv_results_kfold.mean())\n"
   ]
  },
  {
   "cell_type": "code",
   "execution_count": 50,
   "id": "22516405",
   "metadata": {},
   "outputs": [
    {
     "name": "stdout",
     "output_type": "stream",
     "text": [
      "K-fold Cross Validation accuracy Results:  [0.6551982  0.6671653  0.69708302 0.69311377 0.66991018]\n",
      "K-fold Cross Validation accuracy Results Mean:  0.6764940948320264\n"
     ]
    }
   ],
   "source": [
    "# K-fold accuracy\n",
    "kf = KFold(shuffle=True, n_splits=5) # To make a 5-fold CV\n",
    "\n",
    "cv_results_kfold = cross_val_score(model, X_test, Y_test, cv=kf, scoring= 'accuracy')\n",
    "\n",
    "print(\"K-fold Cross Validation accuracy Results: \",cv_results_kfold)\n",
    "print(\"K-fold Cross Validation accuracy Results Mean: \",cv_results_kfold.mean())\n"
   ]
  },
  {
   "cell_type": "markdown",
   "id": "f53d2987",
   "metadata": {},
   "source": [
    "### Results"
   ]
  },
  {
   "cell_type": "code",
   "execution_count": 53,
   "id": "7ee1e3a2",
   "metadata": {},
   "outputs": [
    {
     "data": {
      "text/html": [
       "<div>\n",
       "<style scoped>\n",
       "    .dataframe tbody tr th:only-of-type {\n",
       "        vertical-align: middle;\n",
       "    }\n",
       "\n",
       "    .dataframe tbody tr th {\n",
       "        vertical-align: top;\n",
       "    }\n",
       "\n",
       "    .dataframe thead th {\n",
       "        text-align: right;\n",
       "    }\n",
       "</style>\n",
       "<table border=\"1\" class=\"dataframe\">\n",
       "  <thead>\n",
       "    <tr style=\"text-align: right;\">\n",
       "      <th></th>\n",
       "      <th>x</th>\n",
       "      <th>y</th>\n",
       "    </tr>\n",
       "  </thead>\n",
       "  <tbody>\n",
       "    <tr>\n",
       "      <th>18437</th>\n",
       "      <td>Return_to_owner</td>\n",
       "      <td>Adoption</td>\n",
       "    </tr>\n",
       "    <tr>\n",
       "      <th>3076</th>\n",
       "      <td>Adoption</td>\n",
       "      <td>Adoption</td>\n",
       "    </tr>\n",
       "    <tr>\n",
       "      <th>20034</th>\n",
       "      <td>Return_to_owner</td>\n",
       "      <td>Transfer</td>\n",
       "    </tr>\n",
       "    <tr>\n",
       "      <th>18699</th>\n",
       "      <td>Transfer</td>\n",
       "      <td>Transfer</td>\n",
       "    </tr>\n",
       "    <tr>\n",
       "      <th>16317</th>\n",
       "      <td>Adoption</td>\n",
       "      <td>Adoption</td>\n",
       "    </tr>\n",
       "  </tbody>\n",
       "</table>\n",
       "</div>"
      ],
      "text/plain": [
       "                     x         y\n",
       "18437  Return_to_owner  Adoption\n",
       "3076          Adoption  Adoption\n",
       "20034  Return_to_owner  Transfer\n",
       "18699         Transfer  Transfer\n",
       "16317         Adoption  Adoption"
      ]
     },
     "execution_count": 53,
     "metadata": {},
     "output_type": "execute_result"
    }
   ],
   "source": [
    "df_new = pd.DataFrame({'x':Y_test, 'y':y_predicted}) \n",
    "\n",
    "# using dictionary to convert specific columns\n",
    "convert_dict = {'x': int,\n",
    "                'y': float\n",
    "                }\n",
    "df_new = df_new.astype(convert_dict)\n",
    "\n",
    "transform_nums = {\"x\":     {0: \"Adoption\", 1: \"Died\", 2:\"Euthanasia\", 3:\"Return_to_owner\", 4:\"Transfer\"},\n",
    "                  \"y\":     {0: \"Adoption\", 1: \"Died\", 2:\"Euthanasia\", 3:\"Return_to_owner\", 4:\"Transfer\"}}\n",
    "df_new = df_new.replace(transform_nums)\n",
    "df_new.head()"
   ]
  },
  {
   "cell_type": "code",
   "execution_count": 57,
   "id": "6f0b874b",
   "metadata": {},
   "outputs": [
    {
     "name": "stdout",
     "output_type": "stream",
     "text": [
      "(26729, 2)\n",
      "(6683, 2)\n"
     ]
    },
    {
     "data": {
      "text/html": [
       "<div>\n",
       "<style scoped>\n",
       "    .dataframe tbody tr th:only-of-type {\n",
       "        vertical-align: middle;\n",
       "    }\n",
       "\n",
       "    .dataframe tbody tr th {\n",
       "        vertical-align: top;\n",
       "    }\n",
       "\n",
       "    .dataframe thead th {\n",
       "        text-align: right;\n",
       "    }\n",
       "</style>\n",
       "<table border=\"1\" class=\"dataframe\">\n",
       "  <thead>\n",
       "    <tr style=\"text-align: right;\">\n",
       "      <th></th>\n",
       "      <th>AnimalID</th>\n",
       "      <th>Name</th>\n",
       "    </tr>\n",
       "  </thead>\n",
       "  <tbody>\n",
       "    <tr>\n",
       "      <th>0</th>\n",
       "      <td>A671945</td>\n",
       "      <td>Hambone</td>\n",
       "    </tr>\n",
       "    <tr>\n",
       "      <th>1</th>\n",
       "      <td>A656520</td>\n",
       "      <td>Emily</td>\n",
       "    </tr>\n",
       "    <tr>\n",
       "      <th>2</th>\n",
       "      <td>A686464</td>\n",
       "      <td>Pearce</td>\n",
       "    </tr>\n",
       "    <tr>\n",
       "      <th>3</th>\n",
       "      <td>A683430</td>\n",
       "      <td>Unkown</td>\n",
       "    </tr>\n",
       "    <tr>\n",
       "      <th>4</th>\n",
       "      <td>A667013</td>\n",
       "      <td>Unkown</td>\n",
       "    </tr>\n",
       "  </tbody>\n",
       "</table>\n",
       "</div>"
      ],
      "text/plain": [
       "  AnimalID     Name\n",
       "0  A671945  Hambone\n",
       "1  A656520    Emily\n",
       "2  A686464   Pearce\n",
       "3  A683430   Unkown\n",
       "4  A667013   Unkown"
      ]
     },
     "execution_count": 57,
     "metadata": {},
     "output_type": "execute_result"
    }
   ],
   "source": [
    "print(df_ID.shape)\n",
    "print(df_new.shape)\n",
    "df_ID.head()"
   ]
  },
  {
   "cell_type": "code",
   "execution_count": 58,
   "id": "4415bd4d",
   "metadata": {},
   "outputs": [
    {
     "data": {
      "text/html": [
       "<div>\n",
       "<style scoped>\n",
       "    .dataframe tbody tr th:only-of-type {\n",
       "        vertical-align: middle;\n",
       "    }\n",
       "\n",
       "    .dataframe tbody tr th {\n",
       "        vertical-align: top;\n",
       "    }\n",
       "\n",
       "    .dataframe thead th {\n",
       "        text-align: right;\n",
       "    }\n",
       "</style>\n",
       "<table border=\"1\" class=\"dataframe\">\n",
       "  <thead>\n",
       "    <tr style=\"text-align: right;\">\n",
       "      <th></th>\n",
       "      <th>AnimalID</th>\n",
       "      <th>Name</th>\n",
       "      <th>x</th>\n",
       "      <th>y</th>\n",
       "    </tr>\n",
       "  </thead>\n",
       "  <tbody>\n",
       "    <tr>\n",
       "      <th>4</th>\n",
       "      <td>A667013</td>\n",
       "      <td>Unkown</td>\n",
       "      <td>Transfer</td>\n",
       "      <td>Return_to_owner</td>\n",
       "    </tr>\n",
       "    <tr>\n",
       "      <th>7</th>\n",
       "      <td>A701489</td>\n",
       "      <td>Unkown</td>\n",
       "      <td>Transfer</td>\n",
       "      <td>Transfer</td>\n",
       "    </tr>\n",
       "    <tr>\n",
       "      <th>8</th>\n",
       "      <td>A671784</td>\n",
       "      <td>Lucy</td>\n",
       "      <td>Adoption</td>\n",
       "      <td>Adoption</td>\n",
       "    </tr>\n",
       "    <tr>\n",
       "      <th>12</th>\n",
       "      <td>A684601</td>\n",
       "      <td>Rocket</td>\n",
       "      <td>Adoption</td>\n",
       "      <td>Adoption</td>\n",
       "    </tr>\n",
       "    <tr>\n",
       "      <th>18</th>\n",
       "      <td>A679010</td>\n",
       "      <td>Chrissy</td>\n",
       "      <td>Transfer</td>\n",
       "      <td>Transfer</td>\n",
       "    </tr>\n",
       "  </tbody>\n",
       "</table>\n",
       "</div>"
      ],
      "text/plain": [
       "   AnimalID     Name         x                y\n",
       "4   A667013   Unkown  Transfer  Return_to_owner\n",
       "7   A701489   Unkown  Transfer         Transfer\n",
       "8   A671784     Lucy  Adoption         Adoption\n",
       "12  A684601   Rocket  Adoption         Adoption\n",
       "18  A679010  Chrissy  Transfer         Transfer"
      ]
     },
     "execution_count": 58,
     "metadata": {},
     "output_type": "execute_result"
    }
   ],
   "source": [
    "results = pd.merge(df_ID, df_new, left_index=True, right_index=True )\n",
    "results.head()"
   ]
  },
  {
   "cell_type": "markdown",
   "id": "b3cc535e",
   "metadata": {},
   "source": [
    "### Further Analysis"
   ]
  },
  {
   "cell_type": "markdown",
   "id": "1d7edcd1",
   "metadata": {},
   "source": [
    "AUC (Area Under the Curve) and ROC (Receiver Operationg Characteristic) so to speak about ROC AUC score we need to define ROC curve first.It is a chart that visualizes the tradeoff between true positive rate (TPR) and false positive rate (FPR).The higher TPR and the lower FPR is for each threshold the betterand so classifiers that have curves that are more top-left-side on the chart/plot ([Reference](https://neptune.ai/blog/f1-score-accuracy-roc-auc-pr-auc)) are better.\n",
    "\n",
    "In order to get one number that tells us how good our curve is, we can calculate the Area Under the ROC Curve, or ROC AUC score. The more top-left your curve is the higher the area and hence higher ROC AUC score."
   ]
  }
 ],
 "metadata": {
  "kernelspec": {
   "display_name": "geo_env",
   "language": "python",
   "name": "geo_env"
  },
  "language_info": {
   "codemirror_mode": {
    "name": "ipython",
    "version": 3
   },
   "file_extension": ".py",
   "mimetype": "text/x-python",
   "name": "python",
   "nbconvert_exporter": "python",
   "pygments_lexer": "ipython3",
   "version": "3.10.5"
  }
 },
 "nbformat": 4,
 "nbformat_minor": 5
}
